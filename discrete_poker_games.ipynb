{
  "nbformat": 4,
  "nbformat_minor": 0,
  "metadata": {
    "colab": {
      "provenance": [],
      "gpuType": "T4"
    },
    "kernelspec": {
      "name": "python3",
      "display_name": "Python 3"
    },
    "language_info": {
      "name": "python"
    },
    "accelerator": "GPU"
  },
  "cells": [
    {
      "cell_type": "markdown",
      "source": [
        "# 0. Setup\n",
        "Run this cell to set up some helpful tools."
      ],
      "metadata": {
        "id": "MwXsNkey1NUn"
      }
    },
    {
      "cell_type": "code",
      "source": [
        "import time\n",
        "import pandas as pd\n",
        "import plotly.graph_objects as go\n",
        "\n",
        "# DataFrame to store log data\n",
        "log_data = []\n",
        "\n",
        "def nCr(n): return n * (n - 1) # / 2\n",
        "\n",
        "def log(p1_cutoff, p2_cutoff, p1_expected_payout, p2_expected_payout, time_taken, verbose=True):\n",
        "    # Store log data in the DataFrame format\n",
        "    log_data.append({\n",
        "        'p1_cutoff': p1_cutoff,\n",
        "        'p2_cutoff': p2_cutoff,\n",
        "        'p1_expected_payout': p1_expected_payout,\n",
        "        'p2_expected_payout': p2_expected_payout,\n",
        "        'time_taken': time_taken\n",
        "    })\n",
        "\n",
        "    # Prepare the message to be printed in the boxed format\n",
        "    message = '''\n",
        "P1 Cutoff: {0}\n",
        "P2 Cutoff: {1}\n",
        "P1 Payout: {2:.5f}\n",
        "P2 Payout: {3:.5f}\n",
        "Executed in {4:.5f} seconds\n",
        "'''.format(p1_cutoff,\n",
        "            p2_cutoff,\n",
        "            p1_expected_payout,\n",
        "            p2_expected_payout,\n",
        "            time_taken)\n",
        "\n",
        "    if verbose: boxed(message)\n",
        "\n",
        "def boxed(text):\n",
        "    lines = text.splitlines()\n",
        "    if lines and lines[0] == \"\": lines = lines[1:]\n",
        "    if not lines: return\n",
        "\n",
        "    max_width = max(map(len, lines))\n",
        "\n",
        "    print(\"┌\" + \"─\" * (max_width + 2) + \"┐\")\n",
        "    for line in lines:\n",
        "      print(f\"│ {line.ljust(max_width)} │\")\n",
        "    print(\"└\" + \"─\" * (max_width + 2) + \"┘\")\n",
        "\n",
        "def graph():\n",
        "    df = pd.DataFrame(log_data)\n",
        "    fig = go.Figure()\n",
        "    fig.add_trace(go.Scatter3d(\n",
        "        x=df['p1_cutoff'],\n",
        "        y=df['p2_cutoff'],\n",
        "        z=df['p1_expected_payout'],\n",
        "        mode='markers',\n",
        "        marker=dict(color='blue', size=4),\n",
        "        name='Player 1'\n",
        "    ))\n",
        "    fig.add_trace(go.Scatter3d(\n",
        "        x=df['p1_cutoff'],\n",
        "        y=df['p2_cutoff'],\n",
        "        z=df['p2_expected_payout'],\n",
        "        mode='markers',\n",
        "        marker=dict(color='red',size=4),\n",
        "        name='Player 2'\n",
        "    ))\n",
        "    fig.update_layout(\n",
        "        scene=dict(\n",
        "            xaxis_title='P1 Cutoff',\n",
        "            yaxis_title='P2 Cutoff',\n",
        "            zaxis_title='Payout'\n",
        "        ),\n",
        "        title='Payouts as a function of Cutoffs',\n",
        "        showlegend=True\n",
        "    )\n",
        "\n",
        "    fig.show()"
      ],
      "metadata": {
        "id": "SoSRT7vOqOYn"
      },
      "execution_count": 1,
      "outputs": []
    },
    {
      "cell_type": "markdown",
      "source": [
        "# 1. Simulation\n",
        "Simulating payoffs for various cutoff combinations."
      ],
      "metadata": {
        "id": "7VS4Pzz_1cWE"
      }
    },
    {
      "cell_type": "code",
      "source": [
        "#@title { vertical-output: true}\n",
        "\n",
        "n = 1000\n",
        "p1_expected_payout = 0\n",
        "p2_expected_payout = 0\n",
        "trials = nCr(n)\n",
        "test_range = 5\n",
        "\n",
        "def test_cutoffs(p1_cutoff, p2_cutoff):\n",
        "\n",
        "  start_time = time.time()\n",
        "\n",
        "  global p1_expected_payout\n",
        "  global p2_expected_payout\n",
        "\n",
        "  p1_expected_payout = 0\n",
        "  p2_expected_payout = 0\n",
        "\n",
        "  for p1_card in range(1, n + 1):\n",
        "    for p2_card in range(1, n + 1):\n",
        "\n",
        "      if p1_card == p2_card: continue\n",
        "\n",
        "      if p1_card >= p1_cutoff and p2_card >= p2_cutoff:\n",
        "        if p1_card > p2_card:\n",
        "          p1_expected_payout += 2\n",
        "          p2_expected_payout -= 2\n",
        "        else:\n",
        "          p1_expected_payout -= 2\n",
        "          p2_expected_payout += 2\n",
        "\n",
        "      elif p1_card < p1_cutoff and p2_card < p2_cutoff:\n",
        "        if p1_card > p2_card:\n",
        "          p1_expected_payout += 1\n",
        "          p2_expected_payout -= 1\n",
        "        else:\n",
        "          p1_expected_payout -= 1\n",
        "          p2_expected_payout += 1\n",
        "\n",
        "      elif p1_card >= p1_cutoff:\n",
        "        p1_expected_payout += 1\n",
        "        p2_expected_payout -= 1\n",
        "\n",
        "      elif p2_card >= p2_cutoff:\n",
        "        p1_expected_payout -= 1\n",
        "        p2_expected_payout += 1\n",
        "\n",
        "  return time.time() - start_time\n",
        "\n",
        "start_time = time.time()\n",
        "\n",
        "for p1_test_cutoff in range(1, test_range + 1):\n",
        "  for p2_test_cutoff in range(1, test_range + 1):\n",
        "\n",
        "    log(p1_test_cutoff,\n",
        "        p2_test_cutoff,\n",
        "        p1_expected_payout / trials,\n",
        "        p2_expected_payout / trials,\n",
        "        test_cutoffs(p1_test_cutoff, p2_test_cutoff),\n",
        "        verbose=False)\n",
        "\n",
        "print(f\"Executed all iterations in {round(time.time() - start_time, 3)} seconds.\\n\")\n",
        "graph()"
      ],
      "metadata": {
        "colab": {
          "base_uri": "https://localhost:8080/",
          "height": 577
        },
        "id": "CIzfwzFqcAAr",
        "outputId": "25c765b0-ef0a-48a0-add5-fd1dd1b333c2"
      },
      "execution_count": 3,
      "outputs": [
        {
          "output_type": "stream",
          "name": "stdout",
          "text": [
            "Executed all iterations in 3.858 seconds.\n",
            "\n"
          ]
        },
        {
          "output_type": "display_data",
          "data": {
            "text/html": [
              "<html>\n",
              "<head><meta charset=\"utf-8\" /></head>\n",
              "<body>\n",
              "    <div>            <script src=\"https://cdnjs.cloudflare.com/ajax/libs/mathjax/2.7.5/MathJax.js?config=TeX-AMS-MML_SVG\"></script><script type=\"text/javascript\">if (window.MathJax && window.MathJax.Hub && window.MathJax.Hub.Config) {window.MathJax.Hub.Config({SVG: {font: \"STIX-Web\"}});}</script>                <script type=\"text/javascript\">window.PlotlyConfig = {MathJaxConfig: 'local'};</script>\n",
              "        <script charset=\"utf-8\" src=\"https://cdn.plot.ly/plotly-2.35.2.min.js\"></script>                <div id=\"46dff9b4-648e-4831-ae30-3caa65b38888\" class=\"plotly-graph-div\" style=\"height:525px; width:100%;\"></div>            <script type=\"text/javascript\">                                    window.PLOTLYENV=window.PLOTLYENV || {};                                    if (document.getElementById(\"46dff9b4-648e-4831-ae30-3caa65b38888\")) {                    Plotly.newPlot(                        \"46dff9b4-648e-4831-ae30-3caa65b38888\",                        [{\"marker\":{\"color\":\"blue\",\"size\":4},\"mode\":\"markers\",\"name\":\"Player 1\",\"x\":[1,1,1,1,1,2,2,2,2,2,3,3,3,3,3,4,4,4,4,4,5,5,5,5,5,1,1,1,1,1,2,2,2,2,2,3,3,3,3,3,4,4,4,4,4,5,5,5,5,5],\"y\":[1,2,3,4,5,1,2,3,4,5,1,2,3,4,5,1,2,3,4,5,1,2,3,4,5,1,2,3,4,5,1,2,3,4,5,1,2,3,4,5,1,2,3,4,5,1,2,3,4,5],\"z\":[0.0,0.0,-0.001,-0.001995995995995996,-0.002987987987987988,-0.003975975975975976,0.001,0.0,-0.000998998998998999,-0.0019939939939939938,-0.002984984984984985,0.001995995995995996,0.000998998998998999,0.0,-0.000997997997997998,-0.001991991991991992,0.002987987987987988,0.0019939939939939938,0.000997997997997998,0.0,-0.0009969969969969969,0.003975975975975976,0.002984984984984985,0.001991991991991992,0.0009969969969969969,0.0,0.0,-0.001,-0.001995995995995996,-0.002987987987987988,-0.003975975975975976,0.001,0.0,-0.000998998998998999,-0.0019939939939939938,-0.002984984984984985,0.001995995995995996,0.000998998998998999,0.0,-0.000997997997997998,-0.001991991991991992,0.002987987987987988,0.0019939939939939938,0.000997997997997998,0.0,-0.0009969969969969969,0.003975975975975976,0.002984984984984985,0.001991991991991992,0.0009969969969969969],\"type\":\"scatter3d\"},{\"marker\":{\"color\":\"red\",\"size\":4},\"mode\":\"markers\",\"name\":\"Player 2\",\"x\":[1,1,1,1,1,2,2,2,2,2,3,3,3,3,3,4,4,4,4,4,5,5,5,5,5,1,1,1,1,1,2,2,2,2,2,3,3,3,3,3,4,4,4,4,4,5,5,5,5,5],\"y\":[1,2,3,4,5,1,2,3,4,5,1,2,3,4,5,1,2,3,4,5,1,2,3,4,5,1,2,3,4,5,1,2,3,4,5,1,2,3,4,5,1,2,3,4,5,1,2,3,4,5],\"z\":[0.0,0.0,0.001,0.001995995995995996,0.002987987987987988,0.003975975975975976,-0.001,0.0,0.000998998998998999,0.0019939939939939938,0.002984984984984985,-0.001995995995995996,-0.000998998998998999,0.0,0.000997997997997998,0.001991991991991992,-0.002987987987987988,-0.0019939939939939938,-0.000997997997997998,0.0,0.0009969969969969969,-0.003975975975975976,-0.002984984984984985,-0.001991991991991992,-0.0009969969969969969,0.0,0.0,0.001,0.001995995995995996,0.002987987987987988,0.003975975975975976,-0.001,0.0,0.000998998998998999,0.0019939939939939938,0.002984984984984985,-0.001995995995995996,-0.000998998998998999,0.0,0.000997997997997998,0.001991991991991992,-0.002987987987987988,-0.0019939939939939938,-0.000997997997997998,0.0,0.0009969969969969969,-0.003975975975975976,-0.002984984984984985,-0.001991991991991992,-0.0009969969969969969],\"type\":\"scatter3d\"}],                        {\"template\":{\"data\":{\"histogram2dcontour\":[{\"type\":\"histogram2dcontour\",\"colorbar\":{\"outlinewidth\":0,\"ticks\":\"\"},\"colorscale\":[[0.0,\"#0d0887\"],[0.1111111111111111,\"#46039f\"],[0.2222222222222222,\"#7201a8\"],[0.3333333333333333,\"#9c179e\"],[0.4444444444444444,\"#bd3786\"],[0.5555555555555556,\"#d8576b\"],[0.6666666666666666,\"#ed7953\"],[0.7777777777777778,\"#fb9f3a\"],[0.8888888888888888,\"#fdca26\"],[1.0,\"#f0f921\"]]}],\"choropleth\":[{\"type\":\"choropleth\",\"colorbar\":{\"outlinewidth\":0,\"ticks\":\"\"}}],\"histogram2d\":[{\"type\":\"histogram2d\",\"colorbar\":{\"outlinewidth\":0,\"ticks\":\"\"},\"colorscale\":[[0.0,\"#0d0887\"],[0.1111111111111111,\"#46039f\"],[0.2222222222222222,\"#7201a8\"],[0.3333333333333333,\"#9c179e\"],[0.4444444444444444,\"#bd3786\"],[0.5555555555555556,\"#d8576b\"],[0.6666666666666666,\"#ed7953\"],[0.7777777777777778,\"#fb9f3a\"],[0.8888888888888888,\"#fdca26\"],[1.0,\"#f0f921\"]]}],\"heatmap\":[{\"type\":\"heatmap\",\"colorbar\":{\"outlinewidth\":0,\"ticks\":\"\"},\"colorscale\":[[0.0,\"#0d0887\"],[0.1111111111111111,\"#46039f\"],[0.2222222222222222,\"#7201a8\"],[0.3333333333333333,\"#9c179e\"],[0.4444444444444444,\"#bd3786\"],[0.5555555555555556,\"#d8576b\"],[0.6666666666666666,\"#ed7953\"],[0.7777777777777778,\"#fb9f3a\"],[0.8888888888888888,\"#fdca26\"],[1.0,\"#f0f921\"]]}],\"heatmapgl\":[{\"type\":\"heatmapgl\",\"colorbar\":{\"outlinewidth\":0,\"ticks\":\"\"},\"colorscale\":[[0.0,\"#0d0887\"],[0.1111111111111111,\"#46039f\"],[0.2222222222222222,\"#7201a8\"],[0.3333333333333333,\"#9c179e\"],[0.4444444444444444,\"#bd3786\"],[0.5555555555555556,\"#d8576b\"],[0.6666666666666666,\"#ed7953\"],[0.7777777777777778,\"#fb9f3a\"],[0.8888888888888888,\"#fdca26\"],[1.0,\"#f0f921\"]]}],\"contourcarpet\":[{\"type\":\"contourcarpet\",\"colorbar\":{\"outlinewidth\":0,\"ticks\":\"\"}}],\"contour\":[{\"type\":\"contour\",\"colorbar\":{\"outlinewidth\":0,\"ticks\":\"\"},\"colorscale\":[[0.0,\"#0d0887\"],[0.1111111111111111,\"#46039f\"],[0.2222222222222222,\"#7201a8\"],[0.3333333333333333,\"#9c179e\"],[0.4444444444444444,\"#bd3786\"],[0.5555555555555556,\"#d8576b\"],[0.6666666666666666,\"#ed7953\"],[0.7777777777777778,\"#fb9f3a\"],[0.8888888888888888,\"#fdca26\"],[1.0,\"#f0f921\"]]}],\"surface\":[{\"type\":\"surface\",\"colorbar\":{\"outlinewidth\":0,\"ticks\":\"\"},\"colorscale\":[[0.0,\"#0d0887\"],[0.1111111111111111,\"#46039f\"],[0.2222222222222222,\"#7201a8\"],[0.3333333333333333,\"#9c179e\"],[0.4444444444444444,\"#bd3786\"],[0.5555555555555556,\"#d8576b\"],[0.6666666666666666,\"#ed7953\"],[0.7777777777777778,\"#fb9f3a\"],[0.8888888888888888,\"#fdca26\"],[1.0,\"#f0f921\"]]}],\"mesh3d\":[{\"type\":\"mesh3d\",\"colorbar\":{\"outlinewidth\":0,\"ticks\":\"\"}}],\"scatter\":[{\"fillpattern\":{\"fillmode\":\"overlay\",\"size\":10,\"solidity\":0.2},\"type\":\"scatter\"}],\"parcoords\":[{\"type\":\"parcoords\",\"line\":{\"colorbar\":{\"outlinewidth\":0,\"ticks\":\"\"}}}],\"scatterpolargl\":[{\"type\":\"scatterpolargl\",\"marker\":{\"colorbar\":{\"outlinewidth\":0,\"ticks\":\"\"}}}],\"bar\":[{\"error_x\":{\"color\":\"#2a3f5f\"},\"error_y\":{\"color\":\"#2a3f5f\"},\"marker\":{\"line\":{\"color\":\"#E5ECF6\",\"width\":0.5},\"pattern\":{\"fillmode\":\"overlay\",\"size\":10,\"solidity\":0.2}},\"type\":\"bar\"}],\"scattergeo\":[{\"type\":\"scattergeo\",\"marker\":{\"colorbar\":{\"outlinewidth\":0,\"ticks\":\"\"}}}],\"scatterpolar\":[{\"type\":\"scatterpolar\",\"marker\":{\"colorbar\":{\"outlinewidth\":0,\"ticks\":\"\"}}}],\"histogram\":[{\"marker\":{\"pattern\":{\"fillmode\":\"overlay\",\"size\":10,\"solidity\":0.2}},\"type\":\"histogram\"}],\"scattergl\":[{\"type\":\"scattergl\",\"marker\":{\"colorbar\":{\"outlinewidth\":0,\"ticks\":\"\"}}}],\"scatter3d\":[{\"type\":\"scatter3d\",\"line\":{\"colorbar\":{\"outlinewidth\":0,\"ticks\":\"\"}},\"marker\":{\"colorbar\":{\"outlinewidth\":0,\"ticks\":\"\"}}}],\"scattermapbox\":[{\"type\":\"scattermapbox\",\"marker\":{\"colorbar\":{\"outlinewidth\":0,\"ticks\":\"\"}}}],\"scatterternary\":[{\"type\":\"scatterternary\",\"marker\":{\"colorbar\":{\"outlinewidth\":0,\"ticks\":\"\"}}}],\"scattercarpet\":[{\"type\":\"scattercarpet\",\"marker\":{\"colorbar\":{\"outlinewidth\":0,\"ticks\":\"\"}}}],\"carpet\":[{\"aaxis\":{\"endlinecolor\":\"#2a3f5f\",\"gridcolor\":\"white\",\"linecolor\":\"white\",\"minorgridcolor\":\"white\",\"startlinecolor\":\"#2a3f5f\"},\"baxis\":{\"endlinecolor\":\"#2a3f5f\",\"gridcolor\":\"white\",\"linecolor\":\"white\",\"minorgridcolor\":\"white\",\"startlinecolor\":\"#2a3f5f\"},\"type\":\"carpet\"}],\"table\":[{\"cells\":{\"fill\":{\"color\":\"#EBF0F8\"},\"line\":{\"color\":\"white\"}},\"header\":{\"fill\":{\"color\":\"#C8D4E3\"},\"line\":{\"color\":\"white\"}},\"type\":\"table\"}],\"barpolar\":[{\"marker\":{\"line\":{\"color\":\"#E5ECF6\",\"width\":0.5},\"pattern\":{\"fillmode\":\"overlay\",\"size\":10,\"solidity\":0.2}},\"type\":\"barpolar\"}],\"pie\":[{\"automargin\":true,\"type\":\"pie\"}]},\"layout\":{\"autotypenumbers\":\"strict\",\"colorway\":[\"#636efa\",\"#EF553B\",\"#00cc96\",\"#ab63fa\",\"#FFA15A\",\"#19d3f3\",\"#FF6692\",\"#B6E880\",\"#FF97FF\",\"#FECB52\"],\"font\":{\"color\":\"#2a3f5f\"},\"hovermode\":\"closest\",\"hoverlabel\":{\"align\":\"left\"},\"paper_bgcolor\":\"white\",\"plot_bgcolor\":\"#E5ECF6\",\"polar\":{\"bgcolor\":\"#E5ECF6\",\"angularaxis\":{\"gridcolor\":\"white\",\"linecolor\":\"white\",\"ticks\":\"\"},\"radialaxis\":{\"gridcolor\":\"white\",\"linecolor\":\"white\",\"ticks\":\"\"}},\"ternary\":{\"bgcolor\":\"#E5ECF6\",\"aaxis\":{\"gridcolor\":\"white\",\"linecolor\":\"white\",\"ticks\":\"\"},\"baxis\":{\"gridcolor\":\"white\",\"linecolor\":\"white\",\"ticks\":\"\"},\"caxis\":{\"gridcolor\":\"white\",\"linecolor\":\"white\",\"ticks\":\"\"}},\"coloraxis\":{\"colorbar\":{\"outlinewidth\":0,\"ticks\":\"\"}},\"colorscale\":{\"sequential\":[[0.0,\"#0d0887\"],[0.1111111111111111,\"#46039f\"],[0.2222222222222222,\"#7201a8\"],[0.3333333333333333,\"#9c179e\"],[0.4444444444444444,\"#bd3786\"],[0.5555555555555556,\"#d8576b\"],[0.6666666666666666,\"#ed7953\"],[0.7777777777777778,\"#fb9f3a\"],[0.8888888888888888,\"#fdca26\"],[1.0,\"#f0f921\"]],\"sequentialminus\":[[0.0,\"#0d0887\"],[0.1111111111111111,\"#46039f\"],[0.2222222222222222,\"#7201a8\"],[0.3333333333333333,\"#9c179e\"],[0.4444444444444444,\"#bd3786\"],[0.5555555555555556,\"#d8576b\"],[0.6666666666666666,\"#ed7953\"],[0.7777777777777778,\"#fb9f3a\"],[0.8888888888888888,\"#fdca26\"],[1.0,\"#f0f921\"]],\"diverging\":[[0,\"#8e0152\"],[0.1,\"#c51b7d\"],[0.2,\"#de77ae\"],[0.3,\"#f1b6da\"],[0.4,\"#fde0ef\"],[0.5,\"#f7f7f7\"],[0.6,\"#e6f5d0\"],[0.7,\"#b8e186\"],[0.8,\"#7fbc41\"],[0.9,\"#4d9221\"],[1,\"#276419\"]]},\"xaxis\":{\"gridcolor\":\"white\",\"linecolor\":\"white\",\"ticks\":\"\",\"title\":{\"standoff\":15},\"zerolinecolor\":\"white\",\"automargin\":true,\"zerolinewidth\":2},\"yaxis\":{\"gridcolor\":\"white\",\"linecolor\":\"white\",\"ticks\":\"\",\"title\":{\"standoff\":15},\"zerolinecolor\":\"white\",\"automargin\":true,\"zerolinewidth\":2},\"scene\":{\"xaxis\":{\"backgroundcolor\":\"#E5ECF6\",\"gridcolor\":\"white\",\"linecolor\":\"white\",\"showbackground\":true,\"ticks\":\"\",\"zerolinecolor\":\"white\",\"gridwidth\":2},\"yaxis\":{\"backgroundcolor\":\"#E5ECF6\",\"gridcolor\":\"white\",\"linecolor\":\"white\",\"showbackground\":true,\"ticks\":\"\",\"zerolinecolor\":\"white\",\"gridwidth\":2},\"zaxis\":{\"backgroundcolor\":\"#E5ECF6\",\"gridcolor\":\"white\",\"linecolor\":\"white\",\"showbackground\":true,\"ticks\":\"\",\"zerolinecolor\":\"white\",\"gridwidth\":2}},\"shapedefaults\":{\"line\":{\"color\":\"#2a3f5f\"}},\"annotationdefaults\":{\"arrowcolor\":\"#2a3f5f\",\"arrowhead\":0,\"arrowwidth\":1},\"geo\":{\"bgcolor\":\"white\",\"landcolor\":\"#E5ECF6\",\"subunitcolor\":\"white\",\"showland\":true,\"showlakes\":true,\"lakecolor\":\"white\"},\"title\":{\"x\":0.05},\"mapbox\":{\"style\":\"light\"}}},\"scene\":{\"xaxis\":{\"title\":{\"text\":\"P1 Cutoff\"}},\"yaxis\":{\"title\":{\"text\":\"P2 Cutoff\"}},\"zaxis\":{\"title\":{\"text\":\"Payout\"}}},\"title\":{\"text\":\"Payouts as a function of Cutoffs\"},\"showlegend\":true},                        {\"responsive\": true}                    ).then(function(){\n",
              "                            \n",
              "var gd = document.getElementById('46dff9b4-648e-4831-ae30-3caa65b38888');\n",
              "var x = new MutationObserver(function (mutations, observer) {{\n",
              "        var display = window.getComputedStyle(gd).display;\n",
              "        if (!display || display === 'none') {{\n",
              "            console.log([gd, 'removed!']);\n",
              "            Plotly.purge(gd);\n",
              "            observer.disconnect();\n",
              "        }}\n",
              "}});\n",
              "\n",
              "// Listen for the removal of the full notebook cells\n",
              "var notebookContainer = gd.closest('#notebook-container');\n",
              "if (notebookContainer) {{\n",
              "    x.observe(notebookContainer, {childList: true});\n",
              "}}\n",
              "\n",
              "// Listen for the clearing of the current output cell\n",
              "var outputEl = gd.closest('.output');\n",
              "if (outputEl) {{\n",
              "    x.observe(outputEl, {childList: true});\n",
              "}}\n",
              "\n",
              "                        })                };                            </script>        </div>\n",
              "</body>\n",
              "</html>"
            ]
          },
          "metadata": {}
        }
      ]
    }
  ]
}