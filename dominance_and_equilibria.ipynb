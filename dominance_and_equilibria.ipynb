{
  "nbformat": 4,
  "nbformat_minor": 0,
  "metadata": {
    "colab": {
      "provenance": [],
      "authorship_tag": "ABX9TyNIZAUwzK6eDyw29XymCDbe",
      "include_colab_link": true
    },
    "kernelspec": {
      "name": "python3",
      "display_name": "Python 3"
    },
    "language_info": {
      "name": "python"
    }
  },
  "cells": [
    {
      "cell_type": "markdown",
      "metadata": {
        "id": "view-in-github",
        "colab_type": "text"
      },
      "source": [
        "<a href=\"https://colab.research.google.com/github/aryan-cs/poker-like-games/blob/discrete-poker/dominance_and_equilibria.ipynb\" target=\"_parent\"><img src=\"https://colab.research.google.com/assets/colab-badge.svg\" alt=\"Open In Colab\"/></a>"
      ]
    },
    {
      "cell_type": "markdown",
      "source": [
        "## Helper Functions"
      ],
      "metadata": {
        "id": "ut5swwQW8TIO"
      }
    },
    {
      "cell_type": "code",
      "execution_count": null,
      "metadata": {
        "id": "2STLazEE7Oeo"
      },
      "outputs": [],
      "source": [
        "def boxed(text):\n",
        "    lines = text.splitlines()\n",
        "    if lines and lines[0] == \"\": lines = lines[1:]\n",
        "    if not lines: return\n",
        "\n",
        "    max_width = max(map(len, lines))\n",
        "\n",
        "    print(\"┌\" + \"─\" * (max_width + 2) + \"┐\")\n",
        "    for line in lines:\n",
        "      print(f\"│ {line.ljust(max_width)} │\")\n",
        "    print(\"└\" + \"─\" * (max_width + 2) + \"┘\")\n",
        "\n",
        "def cutoff_expected_payout_A(kA, kB, n):\n",
        "\n",
        "  # (-3kAkB + kA² + 2kB² - 2kB + 2kA - nkB + nkA) / (n (n - 1)), {kB > kA}\n",
        "  if kB > kA:\n",
        "    return ((-3 * kA * kB )+ (kA * kA) + (2 * kB * kB) - (2 * kB) + (2 * kA) - (n * kB) + (n * kA)) / (n * (n - 1))\n",
        "\n",
        "  # (-3kAkB + kB² + 2kA² - 2kA + 2kB - nkA + nkB) / (n (n - 1)), {kA > kB}\n",
        "  elif kA > kB: return ((3 * kA * kB) - (kB * kB) - (2 * kA * kA) + (2 * kA) - (2 * kB) + (n * kA) - (n * kB)) / (n * (n - 1))\n",
        "\n",
        "  else: return 0\n",
        "\n",
        "def cutoff_expected_payout_B(kA, kB, n):\n",
        "  return -1 * cutoff_expected_payout_A(kA, kB, n) # Remember, this is a zero-sum game"
      ]
    },
    {
      "cell_type": "markdown",
      "source": [
        "# Searching for Dominant Strategies"
      ],
      "metadata": {
        "id": "fJSLJym88O1k"
      }
    },
    {
      "cell_type": "code",
      "source": [
        "#@title { vertical-output: true }\n",
        "\n",
        "import itertools\n",
        "\n",
        "n = 3\n",
        "\n",
        "def indices_of_max(data):\n",
        "    if not data: return []\n",
        "    max_value = max(data)\n",
        "    return [index for index, value in enumerate(data) if value == max_value]\n",
        "\n",
        "def test_betting_strategies(p1_hands, p2_hands):\n",
        "    p1_payouts = []\n",
        "    p1_strategies = []\n",
        "\n",
        "    for p2_betting_set in p2_hands:\n",
        "        p1_payouts.clear()\n",
        "        p1_strategies.clear()\n",
        "\n",
        "        for p1_betting_set in p1_hands:\n",
        "            p1_expected_payout = 0\n",
        "            p2_expected_payout = 0\n",
        "\n",
        "            for p1_card in range(1, n + 1):\n",
        "                for p2_card in range(1, n + 1):\n",
        "                    if p1_card == p2_card:\n",
        "                        continue\n",
        "\n",
        "                    if (p1_card in p1_betting_set) and (p2_card in p2_betting_set):\n",
        "                        if p1_card > p2_card:\n",
        "                            p1_expected_payout += 2\n",
        "                            p2_expected_payout -= 2\n",
        "                        else:\n",
        "                            p1_expected_payout -= 2\n",
        "                            p2_expected_payout += 2\n",
        "\n",
        "                    elif (p1_card not in p1_betting_set) and (p2_card not in p2_betting_set):\n",
        "                        if p1_card > p2_card:\n",
        "                            p1_expected_payout += 1\n",
        "                            p2_expected_payout -= 1\n",
        "                        else:\n",
        "                            p1_expected_payout -= 1\n",
        "                            p2_expected_payout += 1\n",
        "\n",
        "                    elif (p1_card in p1_betting_set) and (p2_card not in p2_betting_set):\n",
        "                        p2_expected_payout -= 1\n",
        "                        p1_expected_payout += 1\n",
        "\n",
        "                    elif (p1_card not in p1_betting_set) and (p2_card in p2_betting_set):\n",
        "                        p2_expected_payout += 1\n",
        "                        p1_expected_payout -= 1\n",
        "\n",
        "            p1_strategies.append(p1_betting_set)\n",
        "            p1_payouts.append(p1_expected_payout)\n",
        "\n",
        "        p1_maxes = indices_of_max(p1_payouts)\n",
        "        bad_strategies = []\n",
        "        bad_payouts = 2\n",
        "        is_possible = False\n",
        "\n",
        "        for index in p1_maxes:\n",
        "            strat = list(p1_strategies[index])\n",
        "            works = all(strat[len(strat) - i - 1] == n - i for i in range(len(strat)))\n",
        "\n",
        "            if works:\n",
        "                is_possible = True\n",
        "            else:\n",
        "                bad_strategies = p1_strategies[index]\n",
        "                bad_payouts = p1_payouts[index]\n",
        "\n",
        "        # Print the optimal strategy for Player A given Player B's strategy\n",
        "        # boxed(\n",
        "        #     \"P1 Strat: \" + str(p1_strategies[index]) + \"\\n\" +\n",
        "        #     \"Payout: \" + str(p1_payouts[index])\n",
        "        # )\n",
        "\n",
        "        if not is_possible:\n",
        "            boxed(\n",
        "              \"P2 Strat: \" + str(p2_betting_set) + \"\\n\"\n",
        "              \"Payout: \" + str(bad_payouts) + \"\\n\"\n",
        "              \"Not Cutoff P1 Strat: \" + str(bad_strategies) + \"\\n\"\n",
        "            )\n",
        "\n",
        "# Example usage\n",
        "p1_hands = [[], [1], [2], [3], [1, 2], [1, 3], [2, 3], [1, 2, 3]]\n",
        "p2_hands = [[], [1], [2], [3], [1, 2], [1, 3], [2, 3], [1, 2, 3]]\n",
        "\n",
        "test_betting_strategies(p1_hands, p2_hands)"
      ],
      "metadata": {
        "colab": {
          "base_uri": "https://localhost:8080/"
        },
        "id": "GLRgookV8b9k",
        "outputId": "b08415c9-09ea-4643-afc3-2b840ed0530a"
      },
      "execution_count": null,
      "outputs": [
        {
          "output_type": "stream",
          "name": "stdout",
          "text": [
            "┌─────────────────────────────┐\n",
            "│ P2 Strat: [3]               │\n",
            "│ Payout: 1                   │\n",
            "│ Not Cutoff P1 Strat: [1, 3] │\n",
            "└─────────────────────────────┘\n"
          ]
        }
      ]
    }
  ]
}